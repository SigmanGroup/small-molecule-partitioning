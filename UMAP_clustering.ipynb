{
 "cells": [
  {
   "cell_type": "markdown",
   "metadata": {},
   "source": [
    "**Imports**"
   ]
  },
  {
   "cell_type": "code",
   "execution_count": null,
   "metadata": {
    "ExecuteTime": {
     "end_time": "2022-03-15T01:31:06.146428Z",
     "start_time": "2022-03-15T01:30:59.051229Z"
    }
   },
   "outputs": [],
   "source": [
    "# UMAP 2.0.0: Updated December 2022 (HDC) \n",
    "# Adapted from JACS, 2021, 143, 19078-19090; https://xinhaoli74.github.io/posts/2019/09/interactive-map/\n",
    "import os,re,sys,pickle,datetime,time,random,itertools\n",
    "import warnings\n",
    "warnings.filterwarnings(\"ignore\")\n",
    "import numpy as np\n",
    "np.set_printoptions(threshold=sys.maxsize)\n",
    "import openpyxl\n",
    "from openpyxl import load_workbook\n",
    "import pandas as pd\n",
    "import math\n",
    "import umap\n",
    "import umap.plot\n",
    "from bokeh.plotting import figure, show, save, output_notebook, output_file\n",
    "from bokeh.resources import INLINE \n",
    "from bokeh.models import HoverTool, ColumnDataSource, CategoricalColorMapper\n",
    "from bokeh.transform import factor_cmap\n",
    "from bokeh.models import Legend, LegendItem\n",
    "from bokeh.palettes import RdBu3,RdBu9,Spectral6\n",
    "from sklearn import metrics\n",
    "from sklearn.pipeline import Pipeline\n",
    "from sklearn.preprocessing import StandardScaler,MinMaxScaler,PolynomialFeatures\n",
    "import sklearn.cluster as cluster\n",
    "from IPython.display import SVG\n",
    "from IPython.display import HTML\n",
    "import matplotlib.pyplot as plt\n",
    "import hdbscan\n",
    "randomstate = 42\n",
    "import rdkit\n",
    "from rdkit import Chem\n",
    "from rdkit.Chem import AllChem\n",
    "from rdkit import RDConfig\n",
    "from rdkit.Chem import MolFromSmiles\n",
    "from rdkit.Chem import PandasTools\n",
    "from rdkit.Chem import Descriptors\n",
    "from rdkit.ML.Descriptors import MoleculeDescriptors\n",
    "from rdkit.Chem.Draw import MolsToGridImage\n",
    "from rdkit.Chem import PropertyMol\n",
    "from rdkit.Chem import Draw\n",
    "from rdkit.Chem.Draw import IPythonConsole\n",
    "from rdkit.Chem.Draw import rdMolDraw2D\n",
    "from rdkit.Chem.Draw.MolDrawing import Font\n",
    "from rdkit.Chem import rdmolfiles\n",
    "from rdkit.Chem import rdFMCS\n",
    "from rdkit.Chem.PandasTools import ChangeMoleculeRendering\n",
    "from rdkit.Chem import rdDepictor\n",
    "from rdkit.Chem.Draw.MolDrawing import MolDrawing,DrawingOptions\n",
    "DrawingOptions.bondLineWidth=1.8\n",
    "DrawingOptions.includeAtomNumbers=False\n",
    "size = (100, 100)"
   ]
  },
  {
   "cell_type": "markdown",
   "metadata": {},
   "source": [
    "**Load data**"
   ]
  },
  {
   "cell_type": "code",
   "execution_count": null,
   "metadata": {
    "ExecuteTime": {
     "end_time": "2022-03-15T02:46:11.409701Z",
     "start_time": "2022-03-15T02:46:09.944599Z"
    }
   },
   "outputs": [],
   "source": [
    "### Manual Input: #################\n",
    "excel_file =\"QikProp_UMAP_input\" \n",
    "excel_sheet = \"Sheet1\" \n",
    "nsamp = 1507\n",
    "num_par = 51  \n",
    "par_start_col = 4 # 0-index\n",
    "smiles_col = 3 # 0-index\n",
    "xlabelrow = True\n",
    "##################################\n",
    "# Feature DF\n",
    "inp = pd.read_excel(excel_file+\".xlsx\",excel_sheet,index_col=0,nrows=nsamp+int(xlabelrow),header=1, usecols=list(range(0,(num_par+par_start_col))),engine='openpyxl')\n",
    "feats = inp[inp.columns[(smiles_col):]].loc[inp.index[:]]\n",
    "feats.index = feats.index.astype(int)\n",
    "# Smiles DF\n",
    "smiles = pd.read_excel(excel_file+\".xlsx\",excel_sheet,header=1,index_col=0,usecols=list(range(0,(smiles_col+1))),engine='openpyxl')\n",
    "# Feature Scaling\n",
    "X_all = np.array(feats)\n",
    "scaler = StandardScaler()\n",
    "scaler.fit(X_all)\n",
    "X_all_sc = scaler.transform(X_all)"
   ]
  },
  {
   "cell_type": "markdown",
   "metadata": {},
   "source": [
    "**Remove colinear descriptors**"
   ]
  },
  {
   "cell_type": "code",
   "execution_count": null,
   "metadata": {
    "ExecuteTime": {
     "end_time": "2022-03-15T02:46:14.737933Z",
     "start_time": "2022-03-15T02:46:14.707884Z"
    }
   },
   "outputs": [],
   "source": [
    "threshold = 0.95\n",
    "print(f'Shape of descriptors file before removing parameters with R^2 > {threshold} :',feats.shape)\n",
    "df_corr = feats.corr()\n",
    "df_not_correlated = ~(df_corr.mask(np.tril(np.ones([len(df_corr)]*2, dtype=bool))).abs() > threshold).any()\n",
    "un_corr_idx = df_not_correlated.loc[df_not_correlated[df_not_correlated.index] == True].index\n",
    "feats = feats[un_corr_idx]\n",
    "print(f'Shape of descriptors file after removing parameters with R^2 > {threshold} : ',feats.shape)"
   ]
  },
  {
   "cell_type": "markdown",
   "metadata": {},
   "source": [
    "**Convert SMILES to strucutres with RDkit and prepare settings for interactive map strucutres**"
   ]
  },
  {
   "cell_type": "code",
   "execution_count": null,
   "metadata": {},
   "outputs": [],
   "source": [
    "# Creates structure from SMILES column. \n",
    "# IF THIS CELL GIVES ERRORS, FIRST CHECK YOUR SMILES STRINGS!!\n",
    "# The df is embedded as an HTML object because of version compatibility between pandas and RDKit\n",
    "def show_df(df):\n",
    "    return HTML(df.to_html(notebook=True))\n",
    "smiles_df = pd.DataFrame({'name':smiles.name[:nsamp],\n",
    "                          'SMILES':smiles.SMILES[:nsamp],\n",
    "                          'type':smiles.type[:nsamp],})\n",
    "PandasTools.AddMoleculeColumnToFrame(smiles_df,'SMILES')\n",
    "show_df(smiles_df)"
   ]
  },
  {
   "cell_type": "code",
   "execution_count": null,
   "metadata": {},
   "outputs": [],
   "source": [
    "### Create structures in the interactive plot ##########\n",
    "def _prepareMol(mol,kekulize):\n",
    "    mc = Chem.Mol(mol.ToBinary())\n",
    "    if kekulize:\n",
    "        try:\n",
    "            Chem.Kekulize(mc)\n",
    "        except:\n",
    "            mc = Chem.Mol(mol.ToBinary())\n",
    "    if not mc.GetNumConformers():\n",
    "        rdDepictor.Compute2DCoords(mc)\n",
    "    return mc\n",
    "\n",
    "def moltosvg(mol,molSize=(175,90),kekulize=True,drawer=None,**kwargs):\n",
    "    mc = _prepareMol(mol,kekulize)\n",
    "    if drawer is None:\n",
    "        drawer = rdMolDraw2D.MolDraw2DSVG(molSize[0],molSize[0])\n",
    "    drawer.DrawMolecule(mc,**kwargs)\n",
    "    drawer.FinishDrawing()\n",
    "    svg = drawer.GetDrawingText()\n",
    "    return SVG(svg.replace('svg:',''))\n",
    "\n",
    "svgs = [moltosvg(m).data for m in smiles_df.ROMol]"
   ]
  },
  {
   "cell_type": "markdown",
   "metadata": {},
   "source": [
    "**Build the UMAP space and interactive plot with structures**"
   ]
  },
  {
   "cell_type": "code",
   "execution_count": null,
   "metadata": {},
   "outputs": [],
   "source": [
    "### This cell builds the UMAP and prints an interactive view, first WITHOUT structures.\n",
    "### Update \"hover_data\" as necessary.\n",
    "hover_data = pd.DataFrame({'index':smiles_df.index[:nsamp],\n",
    "                           'name':smiles_df.name[:nsamp],\n",
    "                           'type':smiles_df.type[:nsamp]\n",
    "                          })\n",
    "\n",
    "# print(hover_data)\n",
    "reducer = umap.UMAP(random_state=2)\n",
    "reduced = reducer.fit(X_all_sc)\n",
    "X_all_red = reducer.transform(X_all_sc)\n",
    "\n",
    "umap.plot.output_notebook()\n",
    "p=umap.plot.interactive(reduced, labels=smiles.type, hover_data=hover_data, point_size=5, alpha=0.7)\n",
    "reduced_labeled = pd.DataFrame({'x':X_all_red[:nsamp,0],\n",
    "                                'y':X_all_red[:nsamp,1],\n",
    "                                'index':smiles_df.index[:nsamp],\n",
    "                                'name':smiles_df.name[:nsamp],\n",
    "                                'type':smiles_df.type[:nsamp]\n",
    "                          })\n",
    "\n",
    "\n",
    "umap.plot.show(p)"
   ]
  },
  {
   "cell_type": "code",
   "execution_count": null,
   "metadata": {
    "scrolled": true
   },
   "outputs": [],
   "source": [
    "# Make an interactive HTML plot (with hover structures) from the above chemical space; colors based on molecule 'type'\n",
    "title='UMAP'\n",
    "file_name = 'InteractiveMap_subsets-FINAL'\n",
    "\n",
    "source = ColumnDataSource(data=dict(x=X_all_red[:,0], y=X_all_red[:,1], desc=smiles_df.name,svgs=svgs[:],type=smiles_df.type[:]))\n",
    "types = smiles_df['type'].unique()\n",
    "mapper=factor_cmap('type', palette=Spectral6, factors=types)\n",
    "ChangeMoleculeRendering(renderer='PNG')\n",
    "hover = HoverTool(tooltips=\"\"\"\n",
    "    <div>\n",
    "        <div>@svgs{safe}\n",
    "        </div>\n",
    "        <div>\n",
    "            <span style=\"font-size: 14px; font-weight: bold;\">@desc</span>\n",
    "        </div>\n",
    "    </div>\n",
    "    \"\"\"\n",
    ")\n",
    "\n",
    "interactive_map = figure(plot_width=500, plot_height=500, tools=['reset,box_zoom,wheel_zoom,zoom_in,zoom_out,pan',hover],\n",
    "           title=title,x_axis_label=\"Dimension 1\",y_axis_label=\"Dimension 2\")\n",
    "interactive_map.circle('x', 'y', size=10, source=source, fill_alpha=0.7,fill_color=mapper,line_color='white')\n",
    "\n",
    "########################################\n",
    "### Change legend here ####\n",
    "########################################\n",
    "### SVGs #############\n",
    "source0 = ColumnDataSource(data=dict(x=X_all_red[0:1507,0], y=X_all_red[0:1507,1],svgs=svgs[0:1507]))\n",
    "### FDA ################\n",
    "source1 = ColumnDataSource(data=dict(x=X_all_red[0:1441,0], y=X_all_red[0:1441,1], desc=smiles_df.name[0:1441],svgs=svgs[0:1441]))\n",
    "### Metabolites #######\n",
    "source2 = ColumnDataSource(data=dict(x=X_all_red[1442:1507,0], y=X_all_red[1442:1507,1], desc=smiles_df.name[1442:1507],svgs=svgs[1442:1507]))\n",
    "\n",
    "interactive_map.circle('x', 'y', size=10, source=source1, fill_alpha=0.8,fill_color='#0C3B8C',line_color='white',legend_label=\"FDA\");\n",
    "interactive_map.circle('x', 'y', size=10, source=source2, fill_alpha=0.8,fill_color='#BE1111',line_color='white',legend_label=\"Metabolite\");\n",
    "# interactive_map.circle('x', 'y', size=10, source=source0, fill_alpha=0.0,line_width=0); # change line width to show the main set \n",
    "interactive_map.legend.location = \"top_left\"\n",
    "interactive_map.legend.title = \"Molecule Groups\"\n",
    "\n",
    "show(interactive_map)\n",
    "# output_file(f\"{file_name}.html\")\n",
    "# save(interactive_map)"
   ]
  },
  {
   "cell_type": "code",
   "execution_count": null,
   "metadata": {},
   "outputs": [],
   "source": [
    "# UMAP Embedding for HDBSAN clustering- first make clusterable embedding of UMAP (https://umap-learn.readthedocs.io/en/latest/clustering.html)\n",
    "clusterable_embedding = umap.UMAP(\n",
    "    n_neighbors=50,\n",
    "    min_dist=0.0,\n",
    "    n_components=2,\n",
    "    random_state=42,\n",
    ").fit_transform(X_all_sc.data)\n",
    "plt.scatter(clusterable_embedding[:, 0], clusterable_embedding[:, 1], s=3, cmap='Spectral');"
   ]
  },
  {
   "cell_type": "code",
   "execution_count": null,
   "metadata": {},
   "outputs": [],
   "source": [
    "# HDBSAN clustering on above embedding\n",
    "labels = hdbscan.HDBSCAN(\n",
    "    min_samples=5,\n",
    "    min_cluster_size=30,\n",
    "    ).fit_predict(clusterable_embedding)\n",
    "clustered = (labels >= 0)\n",
    "plt.figure(figsize=(8,8)) \n",
    "plt.scatter(X_all_red[~clustered, 0],\n",
    "            X_all_red[~clustered, 1],\n",
    "            color=(0.5, 0.5, 0.5),\n",
    "            s=10,\n",
    "            alpha=0.5)\n",
    "plt.scatter(X_all_red[clustered, 0],\n",
    "            X_all_red[clustered, 1],\n",
    "            c=labels[clustered],\n",
    "            s=10,\n",
    "            cmap='Spectral');\n",
    "# Fraction of points clustered:\n",
    "print(\"Fraction of points clustered:\",np.sum(clustered) / X_all_red.data.shape[0])\n",
    "HDBSCAN_clusters = pd.DataFrame({'x':X_all_red[:nsamp,0],\n",
    "                                'y':X_all_red[:nsamp,1],\n",
    "                                'index':smiles_df.index[:nsamp],\n",
    "                                'name':smiles_df.name[:nsamp],\n",
    "                                'type':smiles_df.type[:nsamp],\n",
    "                                'cluster':labels[:nsamp]\n",
    "                          })\n",
    "# print(reduced_HD_clusters)\n",
    "HDBSCAN_clusters.to_excel(r'HDBSCAN_clusters.xlsx', index = False)"
   ]
  },
  {
   "cell_type": "code",
   "execution_count": null,
   "metadata": {},
   "outputs": [],
   "source": [
    "# Interactive Map with Clusters\n",
    "# Make an interactive HTML plot with colors based clusters\n",
    "from bokeh.transform import linear_cmap\n",
    "from bokeh.models import Legend, LegendItem\n",
    "from bokeh.palettes import Viridis11\n",
    "title='UMAP with Clusters'\n",
    "file_name1 = 'InteractiveMap_with_clustering-FINAL'\n",
    "\n",
    "m1 = labels\n",
    "mapper = linear_cmap(field_name='m1', palette=Viridis11 ,low=min(m1) ,high=max(m1))\n",
    "source1 = ColumnDataSource(data=dict(x=X_all_red[:,0], y=X_all_red[:,1],m1=m1,desc= smiles_df.name, svgs=svgs))\n",
    "\n",
    "ChangeMoleculeRendering(renderer='PNG')\n",
    "hover = HoverTool(tooltips=\"\"\"\n",
    "    <div>\n",
    "        <div>@svgs{safe}\n",
    "        </div>\n",
    "        <div>\n",
    "            <span style=\"font-size: 16px; font-weight: bold;\">@desc</span>\n",
    "        </div>\n",
    "    </div>\n",
    "    \"\"\"\n",
    ")\n",
    "\n",
    "interactive_map = figure(plot_width=800, plot_height=800, tools=['reset,box_zoom,wheel_zoom,zoom_in,zoom_out,pan',hover],\n",
    "           x_axis_label=\"Dimension 1\",y_axis_label=\"Dimension 2\")\n",
    "interactive_map.circle('x', 'y', size=22, source=source1, fill_alpha=0.8,fill_color=mapper,line_color='white', line_width=2)\n",
    "\n",
    "interactive_map.xaxis.axis_label_text_font_size = \"22pt\"\n",
    "interactive_map.yaxis.axis_label_text_font_size = \"22pt\"\n",
    "interactive_map.yaxis.major_label_text_font_size = \"22pt\"\n",
    "interactive_map.xaxis.major_label_text_font_size = \"22pt\"\n",
    "interactive_map.xgrid.visible = False\n",
    "interactive_map.ygrid.visible = False\n",
    "show(interactive_map)\n",
    "# output_file(f\"{file_name1}.html\")\n",
    "# save(interactive_map)"
   ]
  }
 ],
 "metadata": {
  "kernelspec": {
   "display_name": "Python 3 (ipykernel)",
   "language": "python",
   "name": "python3"
  },
  "language_info": {
   "codemirror_mode": {
    "name": "ipython",
    "version": 3
   },
   "file_extension": ".py",
   "mimetype": "text/x-python",
   "name": "python",
   "nbconvert_exporter": "python",
   "pygments_lexer": "ipython3",
   "version": "3.7.11"
  },
  "toc": {
   "base_numbering": 1,
   "nav_menu": {},
   "number_sections": true,
   "sideBar": true,
   "skip_h1_title": false,
   "title_cell": "Table of Contents",
   "title_sidebar": "Contents",
   "toc_cell": false,
   "toc_position": {
    "height": "1009.6px",
    "left": "690px",
    "top": "90.8px",
    "width": "242.6470489501953px"
   },
   "toc_section_display": true,
   "toc_window_display": true
  },
  "varInspector": {
   "cols": {
    "lenName": 16,
    "lenType": 16,
    "lenVar": "400"
   },
   "kernels_config": {
    "python": {
     "delete_cmd_postfix": "",
     "delete_cmd_prefix": "del ",
     "library": "var_list.py",
     "varRefreshCmd": "print(var_dic_list())"
    },
    "r": {
     "delete_cmd_postfix": ") ",
     "delete_cmd_prefix": "rm(",
     "library": "var_list.r",
     "varRefreshCmd": "cat(var_dic_list()) "
    }
   },
   "types_to_exclude": [
    "module",
    "function",
    "builtin_function_or_method",
    "instance",
    "_Feature"
   ],
   "window_display": false
  }
 },
 "nbformat": 4,
 "nbformat_minor": 2
}
